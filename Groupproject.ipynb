{
  "nbformat": 4,
  "nbformat_minor": 0,
  "metadata": {
    "colab": {
      "name": "Groupproject.ipynb",
      "provenance": [],
      "collapsed_sections": [],
      "authorship_tag": "ABX9TyNgNU93qTnjKLc4tWCiXZR1",
      "include_colab_link": true
    },
    "kernelspec": {
      "name": "python3",
      "display_name": "Python 3"
    },
    "language_info": {
      "name": "python"
    }
  },
  "cells": [
    {
      "cell_type": "markdown",
      "metadata": {
        "id": "view-in-github",
        "colab_type": "text"
      },
      "source": [
        "<a href=\"https://colab.research.google.com/github/chilsan/COMP8325-/blob/main/Groupproject.ipynb\" target=\"_parent\"><img src=\"https://colab.research.google.com/assets/colab-badge.svg\" alt=\"Open In Colab\"/></a>"
      ]
    },
    {
      "cell_type": "code",
      "source": [
        "!pip install tldextract"
      ],
      "metadata": {
        "colab": {
          "base_uri": "https://localhost:8080/"
        },
        "id": "8zTBMGM3sShp",
        "outputId": "8479acdd-d9f5-4cb4-9055-28db4beacdfe"
      },
      "execution_count": 16,
      "outputs": [
        {
          "output_type": "stream",
          "name": "stdout",
          "text": [
            "Looking in indexes: https://pypi.org/simple, https://us-python.pkg.dev/colab-wheels/public/simple/\n",
            "Requirement already satisfied: tldextract in /usr/local/lib/python3.7/dist-packages (3.3.0)\n",
            "Requirement already satisfied: filelock>=3.0.8 in /usr/local/lib/python3.7/dist-packages (from tldextract) (3.7.0)\n",
            "Requirement already satisfied: requests>=2.1.0 in /usr/local/lib/python3.7/dist-packages (from tldextract) (2.23.0)\n",
            "Requirement already satisfied: requests-file>=1.4 in /usr/local/lib/python3.7/dist-packages (from tldextract) (1.5.1)\n",
            "Requirement already satisfied: idna in /usr/local/lib/python3.7/dist-packages (from tldextract) (2.10)\n",
            "Requirement already satisfied: certifi>=2017.4.17 in /usr/local/lib/python3.7/dist-packages (from requests>=2.1.0->tldextract) (2022.5.18.1)\n",
            "Requirement already satisfied: chardet<4,>=3.0.2 in /usr/local/lib/python3.7/dist-packages (from requests>=2.1.0->tldextract) (3.0.4)\n",
            "Requirement already satisfied: urllib3!=1.25.0,!=1.25.1,<1.26,>=1.21.1 in /usr/local/lib/python3.7/dist-packages (from requests>=2.1.0->tldextract) (1.24.3)\n",
            "Requirement already satisfied: six in /usr/local/lib/python3.7/dist-packages (from requests-file>=1.4->tldextract) (1.15.0)\n"
          ]
        }
      ]
    },
    {
      "cell_type": "code",
      "execution_count": 17,
      "metadata": {
        "id": "5fONCvexr8d4"
      },
      "outputs": [],
      "source": [
        "import numpy as np\n",
        "import pandas as pd\n",
        "import re\n",
        "import matplotlib.pyplot as plt\n",
        "import matplotlib.image as mpimg\n",
        "import seaborn as sns\n",
        "import gc\n",
        "import random\n",
        "import os\n",
        "import pickle\n",
        "import tensorflow as tf\n",
        "from tensorflow.python.util import deprecation\n",
        "from urllib.parse import urlparse\n",
        "import tldextract\n",
        "from sklearn.metrics import accuracy_score"
      ]
    },
    {
      "cell_type": "code",
      "source": [
        "from sklearn.model_selection import train_test_split\n",
        "from tensorflow.keras.preprocessing.text import Tokenizer\n",
        "from tensorflow.keras.preprocessing.sequence import pad_sequences\n",
        "from tensorflow.keras import models, layers, backend, metrics\n",
        "from tensorflow.keras.callbacks import EarlyStopping\n",
        "from keras.utils.vis_utils import plot_model\n",
        "from PIL import Image\n",
        "from sklearn.metrics import confusion_matrix, classification_report"
      ],
      "metadata": {
        "id": "EOjEwt0TsbrE"
      },
      "execution_count": 18,
      "outputs": []
    },
    {
      "cell_type": "code",
      "source": [
        "# Reading the files into two dataframes.\n",
        "malicious = pd.read_csv('/content/malicious_dataset.csv')\n",
        "attack_label = pd.read_csv('/content/attack_labels.csv')\n",
        "normal = pd.read_csv('/content/normal_dataset.csv')"
      ],
      "metadata": {
        "id": "v6GIW1bxsgX-"
      },
      "execution_count": 19,
      "outputs": []
    },
    {
      "cell_type": "code",
      "source": [
        "# Merging the two dataframes, using _ID column as key\n",
        "merged_data = pd.merge(malicious, attack_label, on = 'ip.src')\n",
        "merged_data = merged_data.append(normal)\n",
        "print(merged_data)\n",
        "merged_data.set_index('ip.src', inplace = True)\n",
        "# Writing it to a new CSV file named groupproject\n",
        "merged_data.to_csv('/groupproject.csv')"
      ],
      "metadata": {
        "colab": {
          "base_uri": "https://localhost:8080/"
        },
        "id": "8mJb86DRtgIj",
        "outputId": "dd64814b-0cfd-4584-823e-4eaff6c6d849"
      },
      "execution_count": 21,
      "outputs": [
        {
          "output_type": "stream",
          "name": "stdout",
          "text": [
            "        frame_info.encap_type                      frame_info.time  \\\n",
            "0                           1  Dec 31, 1969 21:03:41.953641000 -03   \n",
            "1                           1  Dec 31, 1969 21:03:41.953762000 -03   \n",
            "2                           1  Dec 31, 1969 21:03:41.953792000 -03   \n",
            "3                           1  Dec 31, 1969 21:03:41.953817000 -03   \n",
            "4                           1  Dec 31, 1969 21:03:41.953854000 -03   \n",
            "...                       ...                                  ...   \n",
            "103089                      1  Nov 21, 2019 02:01:18.308255000 -03   \n",
            "103090                      1  Nov 21, 2019 02:01:18.308601000 -03   \n",
            "103091                      1  Nov 21, 2019 02:01:18.309464000 -03   \n",
            "103092                      1  Nov 21, 2019 02:01:18.311302000 -03   \n",
            "103093                      1  Nov 21, 2019 02:01:18.311362000 -03   \n",
            "\n",
            "        frame_info.time_epoch  frame_info.number  frame_info.len  \\\n",
            "0                2.219536e+02                 20              58   \n",
            "1                2.219538e+02                 21              58   \n",
            "2                2.219538e+02                 22              58   \n",
            "3                2.219538e+02                 23              58   \n",
            "4                2.219539e+02                 24              58   \n",
            "...                       ...                ...             ...   \n",
            "103089           1.574312e+09             204149            1464   \n",
            "103090           1.574312e+09             204150              54   \n",
            "103091           1.574312e+09             204152            1440   \n",
            "103092           1.574312e+09             204154            1440   \n",
            "103093           1.574312e+09             204155              54   \n",
            "\n",
            "        frame_info.cap_len    eth.type  ip.version  ip.hdr_len  ip.tos  ...  \\\n",
            "0                       58  0x00000800         4.0        20.0     NaN  ...   \n",
            "1                       58  0x00000800         4.0        20.0     NaN  ...   \n",
            "2                       58  0x00000800         4.0        20.0     NaN  ...   \n",
            "3                       58  0x00000800         4.0        20.0     NaN  ...   \n",
            "4                       58  0x00000800         4.0        20.0     NaN  ...   \n",
            "...                    ...         ...         ...         ...     ...  ...   \n",
            "103089                  86  0x000086dd         NaN         NaN     NaN  ...   \n",
            "103090                  54  0x00000800         4.0        20.0     NaN  ...   \n",
            "103091                  66  0x00000800         4.0        20.0     NaN  ...   \n",
            "103092                  66  0x00000800         4.0        20.0     NaN  ...   \n",
            "103093                  54  0x00000800         4.0        20.0     NaN  ...   \n",
            "\n",
            "       tcp.flags.reset tcp.flags.push  tcp.flags.ack  tcp.flags.urg  \\\n",
            "0                  0.0            0.0            0.0            0.0   \n",
            "1                  0.0            0.0            0.0            0.0   \n",
            "2                  0.0            0.0            0.0            0.0   \n",
            "3                  0.0            0.0            0.0            0.0   \n",
            "4                  0.0            0.0            0.0            0.0   \n",
            "...                ...            ...            ...            ...   \n",
            "103089             0.0            0.0            1.0            0.0   \n",
            "103090             0.0            0.0            0.0            0.0   \n",
            "103091             0.0            0.0            1.0            0.0   \n",
            "103092             0.0            0.0            1.0            0.0   \n",
            "103093             0.0            0.0            0.0            0.0   \n",
            "\n",
            "        tcp.flags.cwr  tcp.window_size  tcp.checksum  tcp.urgent_pointer  \\\n",
            "0                 0.0           1024.0    0x00005cb1                 0.0   \n",
            "1                 0.0           1024.0    0x00007d1e                 0.0   \n",
            "2                 0.0           1024.0    0x00007b86                 0.0   \n",
            "3                 0.0           1024.0    0x000078ae                 0.0   \n",
            "4                 0.0           1024.0    0x0000727f                 0.0   \n",
            "...               ...              ...           ...                 ...   \n",
            "103089            0.0            240.0    0x00005cae                 0.0   \n",
            "103090            0.0           1024.0    0x00006e28                 0.0   \n",
            "103091            0.0            118.0    0x00006cf4                 0.0   \n",
            "103092            0.0            118.0    0x000016c3                 0.0   \n",
            "103093            0.0           1024.0    0x0000bf71                 0.0   \n",
            "\n",
            "       tcp.options.mss_val         label  \n",
            "0                   1460.0  nmap_tcp_syn  \n",
            "1                   1460.0  nmap_tcp_syn  \n",
            "2                   1460.0  nmap_tcp_syn  \n",
            "3                   1460.0  nmap_tcp_syn  \n",
            "4                   1460.0  nmap_tcp_syn  \n",
            "...                    ...           ...  \n",
            "103089                 NaN           NaN  \n",
            "103090                 NaN           NaN  \n",
            "103091                 NaN           NaN  \n",
            "103092                 NaN           NaN  \n",
            "103093                 NaN           NaN  \n",
            "\n",
            "[140163 rows x 42 columns]\n"
          ]
        }
      ]
    },
    {
      "cell_type": "code",
      "source": [
        "# load the dataset \n",
        "import pandas as pd\n",
        "ds = pd.read_csv('/groupproject.csv')\n",
        "# shuffle the data\n",
        "ds = ds.sample(frac=1, random_state=0)\n",
        "print(f'Data size: {ds.shape}')\n",
        "ds.head()"
      ],
      "metadata": {
        "colab": {
          "base_uri": "https://localhost:8080/",
          "height": 528
        },
        "id": "c8alid3loXKx",
        "outputId": "8f8b38bd-1f6c-4698-c989-db3610d1910b"
      },
      "execution_count": 23,
      "outputs": [
        {
          "output_type": "stream",
          "name": "stdout",
          "text": [
            "Data size: (140163, 42)\n"
          ]
        },
        {
          "output_type": "stream",
          "name": "stderr",
          "text": [
            "/usr/local/lib/python3.7/dist-packages/IPython/core/interactiveshell.py:2882: DtypeWarning: Columns (41) have mixed types.Specify dtype option on import or set low_memory=False.\n",
            "  exec(code_obj, self.user_global_ns, self.user_ns)\n"
          ]
        },
        {
          "output_type": "execute_result",
          "data": {
            "text/plain": [
              "                ip.src  frame_info.encap_type  \\\n",
              "13848      172.16.0.16                      1   \n",
              "135151   92.192.62.116                      1   \n",
              "78582   203.180.205.36                      1   \n",
              "76409    13.35.206.114                      1   \n",
              "50287   88.162.108.220                      1   \n",
              "\n",
              "                            frame_info.time  frame_info.time_epoch  \\\n",
              "13848   Dec 31, 1969 21:35:25.379795000 -03           2.125380e+03   \n",
              "135151  Nov 21, 2019 02:01:14.036651000 -03           1.574312e+09   \n",
              "78582   Nov 21, 2019 02:00:30.787588000 -03           1.574312e+09   \n",
              "76409   Nov 21, 2019 02:00:29.319744000 -03           1.574312e+09   \n",
              "50287   Nov 21, 2019 02:00:10.229634000 -03           1.574312e+09   \n",
              "\n",
              "        frame_info.number  frame_info.len  frame_info.cap_len    eth.type  \\\n",
              "13848               26890              78                  78  0x00000800   \n",
              "135151             193348              54                  54  0x00000800   \n",
              "78582               81261            1436                  66  0x00000800   \n",
              "76409               77018            1440                  66  0x00000800   \n",
              "50287               25741              58                  58  0x00000800   \n",
              "\n",
              "        ip.version  ip.hdr_len  ...  tcp.flags.reset tcp.flags.push  \\\n",
              "13848          4.0        20.0  ...              0.0            0.0   \n",
              "135151         4.0        20.0  ...              0.0            0.0   \n",
              "78582          4.0        20.0  ...              0.0            0.0   \n",
              "76409          4.0        20.0  ...              0.0            0.0   \n",
              "50287          4.0        20.0  ...              0.0            0.0   \n",
              "\n",
              "       tcp.flags.ack  tcp.flags.urg  tcp.flags.cwr  tcp.window_size  \\\n",
              "13848            0.0            0.0            0.0          16384.0   \n",
              "135151           0.0            0.0            0.0           1024.0   \n",
              "78582            1.0            0.0            0.0            245.0   \n",
              "76409            1.0            0.0            0.0            118.0   \n",
              "50287            1.0            0.0            0.0          16384.0   \n",
              "\n",
              "        tcp.checksum  tcp.urgent_pointer  tcp.options.mss_val  \\\n",
              "13848     0x00003037                 0.0               1436.0   \n",
              "135151    0x00004300                 0.0                  NaN   \n",
              "78582     0x000078d6                 0.0                  NaN   \n",
              "76409     0x00003ee9                 0.0                  NaN   \n",
              "50287     0x00004ef9                 0.0               1460.0   \n",
              "\n",
              "                      label  \n",
              "13848   unicornscan_tcp_fin  \n",
              "135151                  NaN  \n",
              "78582                   NaN  \n",
              "76409                   NaN  \n",
              "50287                   NaN  \n",
              "\n",
              "[5 rows x 42 columns]"
            ],
            "text/html": [
              "\n",
              "  <div id=\"df-03dea06c-052f-4f8f-bba1-bae3dcbaed28\">\n",
              "    <div class=\"colab-df-container\">\n",
              "      <div>\n",
              "<style scoped>\n",
              "    .dataframe tbody tr th:only-of-type {\n",
              "        vertical-align: middle;\n",
              "    }\n",
              "\n",
              "    .dataframe tbody tr th {\n",
              "        vertical-align: top;\n",
              "    }\n",
              "\n",
              "    .dataframe thead th {\n",
              "        text-align: right;\n",
              "    }\n",
              "</style>\n",
              "<table border=\"1\" class=\"dataframe\">\n",
              "  <thead>\n",
              "    <tr style=\"text-align: right;\">\n",
              "      <th></th>\n",
              "      <th>ip.src</th>\n",
              "      <th>frame_info.encap_type</th>\n",
              "      <th>frame_info.time</th>\n",
              "      <th>frame_info.time_epoch</th>\n",
              "      <th>frame_info.number</th>\n",
              "      <th>frame_info.len</th>\n",
              "      <th>frame_info.cap_len</th>\n",
              "      <th>eth.type</th>\n",
              "      <th>ip.version</th>\n",
              "      <th>ip.hdr_len</th>\n",
              "      <th>...</th>\n",
              "      <th>tcp.flags.reset</th>\n",
              "      <th>tcp.flags.push</th>\n",
              "      <th>tcp.flags.ack</th>\n",
              "      <th>tcp.flags.urg</th>\n",
              "      <th>tcp.flags.cwr</th>\n",
              "      <th>tcp.window_size</th>\n",
              "      <th>tcp.checksum</th>\n",
              "      <th>tcp.urgent_pointer</th>\n",
              "      <th>tcp.options.mss_val</th>\n",
              "      <th>label</th>\n",
              "    </tr>\n",
              "  </thead>\n",
              "  <tbody>\n",
              "    <tr>\n",
              "      <th>13848</th>\n",
              "      <td>172.16.0.16</td>\n",
              "      <td>1</td>\n",
              "      <td>Dec 31, 1969 21:35:25.379795000 -03</td>\n",
              "      <td>2.125380e+03</td>\n",
              "      <td>26890</td>\n",
              "      <td>78</td>\n",
              "      <td>78</td>\n",
              "      <td>0x00000800</td>\n",
              "      <td>4.0</td>\n",
              "      <td>20.0</td>\n",
              "      <td>...</td>\n",
              "      <td>0.0</td>\n",
              "      <td>0.0</td>\n",
              "      <td>0.0</td>\n",
              "      <td>0.0</td>\n",
              "      <td>0.0</td>\n",
              "      <td>16384.0</td>\n",
              "      <td>0x00003037</td>\n",
              "      <td>0.0</td>\n",
              "      <td>1436.0</td>\n",
              "      <td>unicornscan_tcp_fin</td>\n",
              "    </tr>\n",
              "    <tr>\n",
              "      <th>135151</th>\n",
              "      <td>92.192.62.116</td>\n",
              "      <td>1</td>\n",
              "      <td>Nov 21, 2019 02:01:14.036651000 -03</td>\n",
              "      <td>1.574312e+09</td>\n",
              "      <td>193348</td>\n",
              "      <td>54</td>\n",
              "      <td>54</td>\n",
              "      <td>0x00000800</td>\n",
              "      <td>4.0</td>\n",
              "      <td>20.0</td>\n",
              "      <td>...</td>\n",
              "      <td>0.0</td>\n",
              "      <td>0.0</td>\n",
              "      <td>0.0</td>\n",
              "      <td>0.0</td>\n",
              "      <td>0.0</td>\n",
              "      <td>1024.0</td>\n",
              "      <td>0x00004300</td>\n",
              "      <td>0.0</td>\n",
              "      <td>NaN</td>\n",
              "      <td>NaN</td>\n",
              "    </tr>\n",
              "    <tr>\n",
              "      <th>78582</th>\n",
              "      <td>203.180.205.36</td>\n",
              "      <td>1</td>\n",
              "      <td>Nov 21, 2019 02:00:30.787588000 -03</td>\n",
              "      <td>1.574312e+09</td>\n",
              "      <td>81261</td>\n",
              "      <td>1436</td>\n",
              "      <td>66</td>\n",
              "      <td>0x00000800</td>\n",
              "      <td>4.0</td>\n",
              "      <td>20.0</td>\n",
              "      <td>...</td>\n",
              "      <td>0.0</td>\n",
              "      <td>0.0</td>\n",
              "      <td>1.0</td>\n",
              "      <td>0.0</td>\n",
              "      <td>0.0</td>\n",
              "      <td>245.0</td>\n",
              "      <td>0x000078d6</td>\n",
              "      <td>0.0</td>\n",
              "      <td>NaN</td>\n",
              "      <td>NaN</td>\n",
              "    </tr>\n",
              "    <tr>\n",
              "      <th>76409</th>\n",
              "      <td>13.35.206.114</td>\n",
              "      <td>1</td>\n",
              "      <td>Nov 21, 2019 02:00:29.319744000 -03</td>\n",
              "      <td>1.574312e+09</td>\n",
              "      <td>77018</td>\n",
              "      <td>1440</td>\n",
              "      <td>66</td>\n",
              "      <td>0x00000800</td>\n",
              "      <td>4.0</td>\n",
              "      <td>20.0</td>\n",
              "      <td>...</td>\n",
              "      <td>0.0</td>\n",
              "      <td>0.0</td>\n",
              "      <td>1.0</td>\n",
              "      <td>0.0</td>\n",
              "      <td>0.0</td>\n",
              "      <td>118.0</td>\n",
              "      <td>0x00003ee9</td>\n",
              "      <td>0.0</td>\n",
              "      <td>NaN</td>\n",
              "      <td>NaN</td>\n",
              "    </tr>\n",
              "    <tr>\n",
              "      <th>50287</th>\n",
              "      <td>88.162.108.220</td>\n",
              "      <td>1</td>\n",
              "      <td>Nov 21, 2019 02:00:10.229634000 -03</td>\n",
              "      <td>1.574312e+09</td>\n",
              "      <td>25741</td>\n",
              "      <td>58</td>\n",
              "      <td>58</td>\n",
              "      <td>0x00000800</td>\n",
              "      <td>4.0</td>\n",
              "      <td>20.0</td>\n",
              "      <td>...</td>\n",
              "      <td>0.0</td>\n",
              "      <td>0.0</td>\n",
              "      <td>1.0</td>\n",
              "      <td>0.0</td>\n",
              "      <td>0.0</td>\n",
              "      <td>16384.0</td>\n",
              "      <td>0x00004ef9</td>\n",
              "      <td>0.0</td>\n",
              "      <td>1460.0</td>\n",
              "      <td>NaN</td>\n",
              "    </tr>\n",
              "  </tbody>\n",
              "</table>\n",
              "<p>5 rows × 42 columns</p>\n",
              "</div>\n",
              "      <button class=\"colab-df-convert\" onclick=\"convertToInteractive('df-03dea06c-052f-4f8f-bba1-bae3dcbaed28')\"\n",
              "              title=\"Convert this dataframe to an interactive table.\"\n",
              "              style=\"display:none;\">\n",
              "        \n",
              "  <svg xmlns=\"http://www.w3.org/2000/svg\" height=\"24px\"viewBox=\"0 0 24 24\"\n",
              "       width=\"24px\">\n",
              "    <path d=\"M0 0h24v24H0V0z\" fill=\"none\"/>\n",
              "    <path d=\"M18.56 5.44l.94 2.06.94-2.06 2.06-.94-2.06-.94-.94-2.06-.94 2.06-2.06.94zm-11 1L8.5 8.5l.94-2.06 2.06-.94-2.06-.94L8.5 2.5l-.94 2.06-2.06.94zm10 10l.94 2.06.94-2.06 2.06-.94-2.06-.94-.94-2.06-.94 2.06-2.06.94z\"/><path d=\"M17.41 7.96l-1.37-1.37c-.4-.4-.92-.59-1.43-.59-.52 0-1.04.2-1.43.59L10.3 9.45l-7.72 7.72c-.78.78-.78 2.05 0 2.83L4 21.41c.39.39.9.59 1.41.59.51 0 1.02-.2 1.41-.59l7.78-7.78 2.81-2.81c.8-.78.8-2.07 0-2.86zM5.41 20L4 18.59l7.72-7.72 1.47 1.35L5.41 20z\"/>\n",
              "  </svg>\n",
              "      </button>\n",
              "      \n",
              "  <style>\n",
              "    .colab-df-container {\n",
              "      display:flex;\n",
              "      flex-wrap:wrap;\n",
              "      gap: 12px;\n",
              "    }\n",
              "\n",
              "    .colab-df-convert {\n",
              "      background-color: #E8F0FE;\n",
              "      border: none;\n",
              "      border-radius: 50%;\n",
              "      cursor: pointer;\n",
              "      display: none;\n",
              "      fill: #1967D2;\n",
              "      height: 32px;\n",
              "      padding: 0 0 0 0;\n",
              "      width: 32px;\n",
              "    }\n",
              "\n",
              "    .colab-df-convert:hover {\n",
              "      background-color: #E2EBFA;\n",
              "      box-shadow: 0px 1px 2px rgba(60, 64, 67, 0.3), 0px 1px 3px 1px rgba(60, 64, 67, 0.15);\n",
              "      fill: #174EA6;\n",
              "    }\n",
              "\n",
              "    [theme=dark] .colab-df-convert {\n",
              "      background-color: #3B4455;\n",
              "      fill: #D2E3FC;\n",
              "    }\n",
              "\n",
              "    [theme=dark] .colab-df-convert:hover {\n",
              "      background-color: #434B5C;\n",
              "      box-shadow: 0px 1px 3px 1px rgba(0, 0, 0, 0.15);\n",
              "      filter: drop-shadow(0px 1px 2px rgba(0, 0, 0, 0.3));\n",
              "      fill: #FFFFFF;\n",
              "    }\n",
              "  </style>\n",
              "\n",
              "      <script>\n",
              "        const buttonEl =\n",
              "          document.querySelector('#df-03dea06c-052f-4f8f-bba1-bae3dcbaed28 button.colab-df-convert');\n",
              "        buttonEl.style.display =\n",
              "          google.colab.kernel.accessAllowed ? 'block' : 'none';\n",
              "\n",
              "        async function convertToInteractive(key) {\n",
              "          const element = document.querySelector('#df-03dea06c-052f-4f8f-bba1-bae3dcbaed28');\n",
              "          const dataTable =\n",
              "            await google.colab.kernel.invokeFunction('convertToInteractive',\n",
              "                                                     [key], {});\n",
              "          if (!dataTable) return;\n",
              "\n",
              "          const docLinkHtml = 'Like what you see? Visit the ' +\n",
              "            '<a target=\"_blank\" href=https://colab.research.google.com/notebooks/data_table.ipynb>data table notebook</a>'\n",
              "            + ' to learn more about interactive tables.';\n",
              "          element.innerHTML = '';\n",
              "          dataTable['output_type'] = 'display_data';\n",
              "          await google.colab.output.renderOutput(dataTable, element);\n",
              "          const docLink = document.createElement('div');\n",
              "          docLink.innerHTML = docLinkHtml;\n",
              "          element.appendChild(docLink);\n",
              "        }\n",
              "      </script>\n",
              "    </div>\n",
              "  </div>\n",
              "  "
            ]
          },
          "metadata": {},
          "execution_count": 23
        }
      ]
    },
    {
      "cell_type": "code",
      "source": [
        "#Feature reduction\n",
        "ds = ds.drop(['ip.version', 'ip.hdr_len','ip.tos','ip.flags.rb','ip.flags.mf','ip.proto','ip.dst','ip.dsfield','tcp.len','tcp.urgent_pointer','frame_info.time'], axis=1)\n",
        "ds[\"label\"] = ds[\"label\"].replace(np.nan,\"Normal_traffic\")\n",
        "print (ds)"
      ],
      "metadata": {
        "colab": {
          "base_uri": "https://localhost:8080/"
        },
        "id": "TPBH6rR0oXWi",
        "outputId": "ff5c8786-0aca-47b3-cdca-866ce5d074b2"
      },
      "execution_count": 24,
      "outputs": [
        {
          "output_type": "stream",
          "name": "stdout",
          "text": [
            "                ip.src  frame_info.encap_type  frame_info.time_epoch  \\\n",
            "13848      172.16.0.16                      1           2.125380e+03   \n",
            "135151   92.192.62.116                      1           1.574312e+09   \n",
            "78582   203.180.205.36                      1           1.574312e+09   \n",
            "76409    13.35.206.114                      1           1.574312e+09   \n",
            "50287   88.162.108.220                      1           1.574312e+09   \n",
            "...                ...                    ...                    ...   \n",
            "41993    13.35.206.114                      1           1.574312e+09   \n",
            "97639   120.253.44.121                      1           1.574312e+09   \n",
            "95939    80.99.190.167                      1           1.574312e+09   \n",
            "117952   13.35.206.114                      1           1.574312e+09   \n",
            "43567   64.216.120.151                      1           1.574312e+09   \n",
            "\n",
            "        frame_info.number  frame_info.len  frame_info.cap_len    eth.type  \\\n",
            "13848               26890              78                  78  0x00000800   \n",
            "135151             193348              54                  54  0x00000800   \n",
            "78582               81261            1436                  66  0x00000800   \n",
            "76409               77018            1440                  66  0x00000800   \n",
            "50287               25741              58                  58  0x00000800   \n",
            "...                   ...             ...                 ...         ...   \n",
            "41993               10025            1440                  66  0x00000800   \n",
            "97639              118695            1514                  66  0x00000800   \n",
            "95939              115900              54                  54  0x00000800   \n",
            "117952             158404            1440                  66  0x00000800   \n",
            "43567               12878              54                  54  0x00000800   \n",
            "\n",
            "             ip.id    ip.flags  ip.flags.df  ...  tcp.flags.syn  \\\n",
            "13848   0x000002f0  0x00004000          1.0  ...            0.0   \n",
            "135151  0x0000fdbf  0x00000000          0.0  ...            1.0   \n",
            "78582   0x00004b25  0x00004000          1.0  ...            0.0   \n",
            "76409   0x0000bed8  0x00004000          1.0  ...            0.0   \n",
            "50287   0x00007a9d  0x00000000          0.0  ...            1.0   \n",
            "...            ...         ...          ...  ...            ...   \n",
            "41993   0x0000b6d2  0x00004000          1.0  ...            0.0   \n",
            "97639   0x00002ecb  0x00004000          1.0  ...            0.0   \n",
            "95939   0x00007061  0x00000000          0.0  ...            1.0   \n",
            "117952  0x000001fb  0x00004000          1.0  ...            0.0   \n",
            "43567   0x000073f6  0x00004000          1.0  ...            0.0   \n",
            "\n",
            "        tcp.flags.reset tcp.flags.push  tcp.flags.ack  tcp.flags.urg  \\\n",
            "13848               0.0            0.0            0.0            0.0   \n",
            "135151              0.0            0.0            0.0            0.0   \n",
            "78582               0.0            0.0            1.0            0.0   \n",
            "76409               0.0            0.0            1.0            0.0   \n",
            "50287               0.0            0.0            1.0            0.0   \n",
            "...                 ...            ...            ...            ...   \n",
            "41993               0.0            0.0            1.0            0.0   \n",
            "97639               0.0            0.0            1.0            0.0   \n",
            "95939               0.0            0.0            0.0            0.0   \n",
            "117952              0.0            0.0            1.0            0.0   \n",
            "43567               0.0            0.0            1.0            0.0   \n",
            "\n",
            "        tcp.flags.cwr  tcp.window_size  tcp.checksum  tcp.options.mss_val  \\\n",
            "13848             0.0          16384.0    0x00003037               1436.0   \n",
            "135151            0.0           1024.0    0x00004300                  NaN   \n",
            "78582             0.0            245.0    0x000078d6                  NaN   \n",
            "76409             0.0            118.0    0x00003ee9                  NaN   \n",
            "50287             0.0          16384.0    0x00004ef9               1460.0   \n",
            "...               ...              ...           ...                  ...   \n",
            "41993             0.0            118.0    0x00003947                  NaN   \n",
            "97639             0.0            243.0    0x0000f1c7                  NaN   \n",
            "95939             0.0           1024.0    0x00002f85                  NaN   \n",
            "117952            0.0            118.0    0x00008b53                  NaN   \n",
            "43567             0.0             58.0    0x0000a1c8                  NaN   \n",
            "\n",
            "                      label  \n",
            "13848   unicornscan_tcp_fin  \n",
            "135151       Normal_traffic  \n",
            "78582        Normal_traffic  \n",
            "76409        Normal_traffic  \n",
            "50287        Normal_traffic  \n",
            "...                     ...  \n",
            "41993        Normal_traffic  \n",
            "97639        Normal_traffic  \n",
            "95939        Normal_traffic  \n",
            "117952       Normal_traffic  \n",
            "43567        Normal_traffic  \n",
            "\n",
            "[140163 rows x 31 columns]\n"
          ]
        }
      ]
    },
    {
      "cell_type": "code",
      "source": [
        "#Data distribustion graph\n",
        "ds.label.value_counts().plot.barh()\n",
        "plt.title('Entire Data')\n",
        "plt.show()\n",
        "plt.figure(figsize=(300,200))"
      ],
      "metadata": {
        "colab": {
          "base_uri": "https://localhost:8080/",
          "height": 318
        },
        "id": "_1Sf-WZooXeX",
        "outputId": "2d88d6b9-24d0-49c5-d5f6-572ec2aa6f60"
      },
      "execution_count": 27,
      "outputs": [
        {
          "output_type": "display_data",
          "data": {
            "text/plain": [
              "<Figure size 432x288 with 1 Axes>"
            ],
            "image/png": "[encoded data removed]"
          },
          "metadata": {
            "needs_background": "light"
          }
        },
        {
          "output_type": "execute_result",
          "data": {
            "text/plain": [
              "<Figure size 21600x14400 with 0 Axes>"
            ]
          },
          "metadata": {},
          "execution_count": 27
        },
        {
          "output_type": "display_data",
          "data": {
            "text/plain": [
              "<Figure size 21600x14400 with 0 Axes>"
            ]
          },
          "metadata": {}
        }
      ]
    },
    {
      "cell_type": "code",
      "source": [
        "print (ds.label.value_counts())"
      ],
      "metadata": {
        "colab": {
          "base_uri": "https://localhost:8080/"
        },
        "id": "R2t4NhEVoXj_",
        "outputId": "1fe505ae-2822-423e-d78b-5a019d737dfd"
      },
      "execution_count": 28,
      "outputs": [
        {
          "output_type": "stream",
          "name": "stdout",
          "text": [
            "Normal_traffic           103094\n",
            "nmap_servinfo              2016\n",
            "nmap_connect               2008\n",
            "nmap_open                  2006\n",
            "nmap_mtu                   2006\n",
            "nmap_reason                2006\n",
            "nmap_vvv                   2002\n",
            "nmap_spoof_idle            1417\n",
            "zmap_tcp_syn               1250\n",
            "unicornscan_tcp_conn       1026\n",
            "unicornscan_tcp_syn        1017\n",
            "unicornscan_tcp_xmas       1014\n",
            "unicornscan_tcp_ack        1014\n",
            "unicornscan_tcp_fxmas      1014\n",
            "unicornscan_tcp_fin        1014\n",
            "unicornscan_tcp_null       1014\n",
            "nmap_fragv                 1003\n",
            "masscan_tcp_syn            1003\n",
            "nmap_tcp_conn              1002\n",
            "nmap_tcp_syn               1001\n",
            "hping_tcp_syn              1001\n",
            "nmap_tcp_xmas              1001\n",
            "nmap_tcp_fin               1001\n",
            "nmap_tcp_null              1001\n",
            "nmap_tcp_ack               1000\n",
            "hping_tcp_xmas             1000\n",
            "nmap_tcp_window            1000\n",
            "hping_tcp_fin              1000\n",
            "hping_tcp_ack              1000\n",
            "nmap_tcp_maimon            1000\n",
            "hping_tcp_null             1000\n",
            "nmap_fast                   206\n",
            "nmap_top10                   26\n",
            "Name: label, dtype: int64\n"
          ]
        }
      ]
    },
    {
      "cell_type": "code",
      "source": [
        "#Models only work with numerical values.Process of converting categorical data into numerical data is called Encoding.\n",
        "# Encoding features\n",
        "import struct\n",
        "from sklearn.preprocessing import LabelEncoder\n",
        "uniqueval = {}\n",
        "count=0\n",
        "for feature in ds[\"ip.src\"] :\n",
        "#print (feature)\n",
        "  if feature not in uniqueval :\n",
        "      uniqueval[feature]=count\n",
        "      count+=1\n",
        "      print (uniqueval)\n",
        "#data.isna()\n",
        "#data.isnull()\n",
        "# converting Hex and other strings to float ,int values\n",
        "      ds[\"ip.src\"].replace({count:uniqueval[count] for count in uniqueval},inplace=True)\n",
        "      ds[\"eth.type\"].replace({j : struct.unpack('!f', bytes.fromhex(j[2:]))[0] for j in ds[\"eth.type\"] if type(j) != float} , inplace=True)\n",
        "      ds[\"ip.id\"].replace({ j : struct.unpack('!f', bytes.fromhex(j[2:]))[0] for j in ds[\"ip.id\"] if type(j) != float} , inplace=True )\n",
        "      ds[\"ip.checksum\"].replace({ j : struct.unpack('!f', bytes.fromhex(j[2:]))[0] for j in ds[\"ip.checksum\"] if type(j) != float} , inplace=True )\n",
        "      ds[\"ip.flags\"].replace({ j : struct.unpack('!f', bytes.fromhex(j[2:]))[0] for j in ds[\"ip.flags\"] if type(j) != float} , inplace=True)\n",
        "      ds[\"tcp.flags\"].replace({ j : struct.unpack('!f', bytes.fromhex(j[2:]))[0] for j in ds[\"tcp.flags\"] if type(j) != float} , inplace=True )\n",
        "      ds[\"tcp.checksum\"].replace({ j : struct.unpack('!f', bytes.fromhex(j[2:]))[0] for j in ds[\"tcp.checksum\"] if type(j) != float} , inplace=True )\n",
        "      "
      ],
      "metadata": {
        "colab": {
          "base_uri": "https://localhost:8080/"
        },
        "id": "CUmaCS6fpng7",
        "outputId": "defd6bef-b012-4021-dece-ff3d5c7c4f45"
      },
      "execution_count": null,
      "outputs": [
        {
          "metadata": {
            "tags": null
          },
          "name": "stdout",
          "output_type": "stream",
          "text": [
            "{'172.16.0.16': 0}\n"
          ]
        }
      ]
    },
    {
      "cell_type": "code",
      "source": [
        "# Replacing NaN values to 0's and printing the resultant data set for reference\n",
        "import math\n",
        "data[\"tcp.options.mss_val\"] = data[\"tcp.options.mss_val\"].replace(np.nan,0)\n",
        "data[\"ip.id\"] = data[\"ip.id\"].replace(np.nan,0)\n",
        "data[\"ip.flags\"] = data[\"ip.flags\"].replace(np.nan,0)\n",
        "data[\"ip.flags.df\"] = data[\"ip.flags.df\"].replace(np.nan,0)\n",
        "data[\"ip.frag_offset\"] = data[\"ip.frag_offset\"].replace(np.nan,0)\n",
        "data[\"ip.ttl\"] = data[\"ip.ttl\"].replace(np.nan,0)\n",
        "data[\"ip.len\"] = data[\"ip.len\"].replace(np.nan,0)\n",
        "data[\"tcp.srcport\"] = data[\"tcp.srcport\"].replace(np.nan,0)\n",
        "data[\"tcp.dstport\"] = data[\"tcp.dstport\"].replace(np.nan,0)\n",
        "data[\"tcp.seq\"] = data[\"tcp.seq\"].replace(np.nan,0)\n",
        "data[\"tcp.ack\"] = data[\"tcp.ack\"].replace(np.nan,0)\n",
        "data[\"tcp.hdr_len\"] = data[\"tcp.hdr_len\"].replace(np.nan,0)\n",
        "data[\"tcp.flags\"] = data[\"tcp.flags\"].replace(np.nan,0)\n",
        "data[\"tcp.flags.fin\"] = data[\"tcp.flags.fin\"].replace(np.nan,0)\n",
        "data[\"tcp.flags.syn\"] = data[\"tcp.flags.syn\"].replace(np.nan,0)\n",
        "data[\"tcp.flags.reset\"] = data[\"tcp.flags.reset\"].replace(np.nan,0)\n",
        "data[\"tcp.flags.push\"] = data[\"tcp.flags.push\"].replace(np.nan,0)\n",
        "data[\"tcp.flags.ack\"] = data[\"tcp.flags.ack\"].replace(np.nan,0)\n",
        "data[\"tcp.flags.urg\"] = data[\"tcp.flags.urg\"].replace(np.nan,0)\n",
        "data[\"tcp.flags.cwr\"] = data[\"tcp.flags.cwr\"].replace(np.nan,0)\n",
        "data[\"tcp.window_size\"] = data[\"tcp.window_size\"].replace(np.nan,0)\n",
        "data[\"tcp.checksum\"] = data[\"tcp.checksum\"].replace(np.nan,0)\n",
        "data[\"ip.checksum\"] = data[\"ip.checksum\"].replace(np.nan,0)\n",
        "data[\"ip.id\"] = data[\"ip.id\"].replace(np.nan,0)\n",
        "X = data.iloc[:, 0:30].values\n",
        "Y = data.iloc[:, 30:].values\n",
        "z = data.isnull().sum()\n",
        "z1 = data.isna().sum()\n",
        "print(z1)\n",
        "print(Y)\n",
        "labelencoder_Y = LabelEncoder()\n",
        "Y = labelencoder_Y.fit_transform(Y)\n",
        "print(Y)"
      ],
      "metadata": {
        "colab": {
          "base_uri": "https://localhost:8080/",
          "height": 245
        },
        "id": "8AXX5XQyQ5ps",
        "outputId": "d246dbe8-f142-4b7c-f167-198edfdecf5a"
      },
      "execution_count": 3,
      "outputs": [
        {
          "output_type": "error",
          "ename": "NameError",
          "evalue": "ignored",
          "traceback": [
            "\u001b[0;31m---------------------------------------------------------------------------\u001b[0m",
            "\u001b[0;31mNameError\u001b[0m                                 Traceback (most recent call last)",
            "\u001b[0;32m<ipython-input-3-5057aeec0a2e>\u001b[0m in \u001b[0;36m<module>\u001b[0;34m()\u001b[0m\n\u001b[1;32m      1\u001b[0m \u001b[0;31m# Replacing NaN values to 0's and printing the resultant data set for reference\u001b[0m\u001b[0;34m\u001b[0m\u001b[0;34m\u001b[0m\u001b[0;34m\u001b[0m\u001b[0m\n\u001b[1;32m      2\u001b[0m \u001b[0;32mimport\u001b[0m \u001b[0mmath\u001b[0m\u001b[0;34m\u001b[0m\u001b[0;34m\u001b[0m\u001b[0m\n\u001b[0;32m----> 3\u001b[0;31m \u001b[0mdata\u001b[0m\u001b[0;34m[\u001b[0m\u001b[0;34m\"tcp.options.mss_val\"\u001b[0m\u001b[0;34m]\u001b[0m \u001b[0;34m=\u001b[0m \u001b[0mdata\u001b[0m\u001b[0;34m[\u001b[0m\u001b[0;34m\"tcp.options.mss_val\"\u001b[0m\u001b[0;34m]\u001b[0m\u001b[0;34m.\u001b[0m\u001b[0mreplace\u001b[0m\u001b[0;34m(\u001b[0m\u001b[0mnp\u001b[0m\u001b[0;34m.\u001b[0m\u001b[0mnan\u001b[0m\u001b[0;34m,\u001b[0m\u001b[0;36m0\u001b[0m\u001b[0;34m)\u001b[0m\u001b[0;34m\u001b[0m\u001b[0;34m\u001b[0m\u001b[0m\n\u001b[0m\u001b[1;32m      4\u001b[0m \u001b[0mdata\u001b[0m\u001b[0;34m[\u001b[0m\u001b[0;34m\"ip.id\"\u001b[0m\u001b[0;34m]\u001b[0m \u001b[0;34m=\u001b[0m \u001b[0mdata\u001b[0m\u001b[0;34m[\u001b[0m\u001b[0;34m\"ip.id\"\u001b[0m\u001b[0;34m]\u001b[0m\u001b[0;34m.\u001b[0m\u001b[0mreplace\u001b[0m\u001b[0;34m(\u001b[0m\u001b[0mnp\u001b[0m\u001b[0;34m.\u001b[0m\u001b[0mnan\u001b[0m\u001b[0;34m,\u001b[0m\u001b[0;36m0\u001b[0m\u001b[0;34m)\u001b[0m\u001b[0;34m\u001b[0m\u001b[0;34m\u001b[0m\u001b[0m\n\u001b[1;32m      5\u001b[0m \u001b[0mdata\u001b[0m\u001b[0;34m[\u001b[0m\u001b[0;34m\"ip.flags\"\u001b[0m\u001b[0;34m]\u001b[0m \u001b[0;34m=\u001b[0m \u001b[0mdata\u001b[0m\u001b[0;34m[\u001b[0m\u001b[0;34m\"ip.flags\"\u001b[0m\u001b[0;34m]\u001b[0m\u001b[0;34m.\u001b[0m\u001b[0mreplace\u001b[0m\u001b[0;34m(\u001b[0m\u001b[0mnp\u001b[0m\u001b[0;34m.\u001b[0m\u001b[0mnan\u001b[0m\u001b[0;34m,\u001b[0m\u001b[0;36m0\u001b[0m\u001b[0;34m)\u001b[0m\u001b[0;34m\u001b[0m\u001b[0;34m\u001b[0m\u001b[0m\n",
            "\u001b[0;31mNameError\u001b[0m: name 'data' is not defined"
          ]
        }
      ]
    }
  ]
}