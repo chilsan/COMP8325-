{
 "cells": [
  {
   "cell_type": "markdown",
   "metadata": {},
   "source": [
    "# COMP8325 Week 1 Workshop"
   ]
  },
  {
   "cell_type": "markdown",
   "metadata": {},
   "source": [
    "In Week 1 practical, our goal is to get familiar with tools we will be using throughout the semester to implement learnt concept from lectures. \n",
    "\n",
    "We will use [**Python**](https://www.python.org/) as a programming language for this unit. Python is one of the most sought after programming language as per Popularity of programming index [PYPL PopularitY of Programming Language](https://pypl.github.io/PYPL.html)\n",
    "\n",
    "We will be using [**Jupyter Notebook**](https://jupyter.org/) which is a free, open-source, interactive web tool that mixes text, code, and output of the code. Every week, we will provide you workshop notebook with instructions and questions which you have to work on. Below each question you will find space (cell in notebook) where you write code and execute it to get the output.\n",
    "\n",
    "To maintain our codebase, we will be using [**Git**](https://git-scm.com/) which is a free and open source distributed version control system (DVCS) designed to handle everything from small to very large projects with speed and efficiency. We will maintain a [**Github**](https://github.com/) repository, which is an internet repository hosting service provider for software development and version control using Git tools."
   ]
  },
  {
   "cell_type": "markdown",
   "metadata": {},
   "source": [
    "## Python data structures"
   ]
  },
  {
   "cell_type": "markdown",
   "metadata": {},
   "source": [
    "Python provides standard set of data structures in its library. Each data structure provides a particular way of organizing data so it can be accessed efficiently, depending on your use case."
   ]
  },
  {
   "cell_type": "markdown",
   "metadata": {},
   "source": [
    "### Python List"
   ]
  },
  {
   "cell_type": "markdown",
   "metadata": {},
   "source": [
    "In the cell below, there are three list. Our goal is to access elements from the list. \n",
    "- Get first element from each list\n",
    "- Get last element from each list\n",
    "- Get third and fourth element from each list"
   ]
  },
  {
   "cell_type": "code",
   "execution_count": 1,
   "metadata": {},
   "outputs": [],
   "source": [
    "friends_list = [\"Sam\", \"Luke\", \"Ariana\", \"Tim\", \"Peter\", \"Samantha\"]\n",
    "fruits = [\"apple\", \"orange\", \"pear\", \"grapes\", \"pineapple\", \"papaya\", \"banana\"]\n",
    "capital_cities = [\"Sydney\", \"Melbourne\", \"Brisbane\", \"Perth\", \"Adelaide\", \"Darwin\", \"Hobart\"]"
   ]
  },
  {
   "cell_type": "code",
   "execution_count": 2,
   "metadata": {},
   "outputs": [
    {
     "name": "stdout",
     "output_type": "stream",
     "text": [
      "The first ,last, third and fourth elements of friends_list are : ['Sam', 'Samantha', 'Ariana', 'Tim']\n",
      "The first ,last, third and fourth elements of fruits list are : ['apple', 'banana', 'pear', 'grapes']\n",
      "The first ,last, third and fourth elements of capital_cities list are : ['Sydney', 'Hobart', 'Brisbane', 'Perth']\n"
     ]
    }
   ],
   "source": [
    "res= [friends_list[0],friends_list[-1],friends_list[2],friends_list[3] ]\n",
    "print (\"The first ,last, third and fourth elements of friends_list are : \" +  str(res))\n",
    "sec= [fruits[0],fruits[-1],fruits[2],fruits[3]]\n",
    "print (\"The first ,last, third and fourth elements of fruits list are : \" +  str(sec))\n",
    "third= [capital_cities[0],capital_cities[-1],capital_cities[2],capital_cities[3]]\n",
    "print (\"The first ,last, third and fourth elements of capital_cities list are : \" +  str(third))"
   ]
  },
  {
   "cell_type": "markdown",
   "metadata": {},
   "source": [
    "### Python Dictionary"
   ]
  },
  {
   "cell_type": "code",
   "execution_count": null,
   "metadata": {},
   "outputs": [],
   "source": []
  },
  {
   "cell_type": "markdown",
   "metadata": {},
   "source": [
    "A dictionary is a collection of items. Each item in a dictionary is stored as a key-value pair. \n",
    "In the cell below, there are three dictionaries. Our goal is to retrieve value based on the key information.\n",
    "- Get the capital of South Australia (SA)\n",
    "- Get the address of the employee\n",
    "- Get marks obtained by student for the unit ISYS545"
   ]
  },
  {
   "cell_type": "code",
   "execution_count": 16,
   "metadata": {},
   "outputs": [],
   "source": [
    "capital = {'NSW': 'Sydney', 'VIC': 'Melbourne', 'SA': 'Adelaide', 'WA': 'Perth', 'QLD': 'Brisbane'}\n",
    "employee = {'name': 'John Citizen', 'age': 47, 'Address': '37 Sydney Street, NSW'}\n",
    "unit_marks = {'COMP8325': 88, 'COMP2345': 92, 'ISYS545': 72, 'COMP8472': 85}"
   ]
  },
  {
   "cell_type": "code",
   "execution_count": 18,
   "metadata": {},
   "outputs": [
    {
     "name": "stdout",
     "output_type": "stream",
     "text": [
      "The capital city of South Australia is Adelaide\n",
      "The address of the employee is 37 Sydney Street, NSW\n",
      "The marks obtained by student for the unit ISYS545 are : 72\n"
     ]
    }
   ],
   "source": [
    "# Write your code here to answer above questions\n",
    "print(\"The capital city of South Australia is \" + capital.get('SA'))\n",
    "print(\"The address of the employee is \" + employee.get('Address'))\n",
    "print (\"The marks obtained by student for the unit ISYS545 are : %s\" %  unit_marks.get('ISYS545'))\n"
   ]
  },
  {
   "cell_type": "markdown",
   "metadata": {},
   "source": [
    "### Python String"
   ]
  },
  {
   "cell_type": "markdown",
   "metadata": {},
   "source": [
    "A string is a sequence of characters enclosed either inside single quotes, double quotes, or even triple quotes. If string is long and encompasses multiline, we generally use triple quotes to represent it. Python has a set of built-in methods that you can use on strings. A non-exhaustive list can be found [here](https://www.w3schools.com/python/python_ref_string.asp).\n",
    "\n",
    "Below, we create three strings to represent unit code, unit name, and its description. Note we are using different set of quotes to represent strings and they are equivalent in terms of representing strings in Python."
   ]
  },
  {
   "cell_type": "code",
   "execution_count": 58,
   "metadata": {},
   "outputs": [],
   "source": [
    "code = \"COMP8325\"\n",
    "title = \"Applications of Artificial Intelligence for Cyber Security\"\n",
    "description = \"\"\"This unit deals with the applications of Artificial Intelligence \n",
    "                in the field of Cyber Security. Topics covered include machine learning-based \n",
    "                intrusion detection systems, malware detection, AI as a service, digital forensics, \n",
    "                incident response leveraging SIEM data. Special attention will be given to the \n",
    "                concept of adversarial machine learning.\"\"\""
   ]
  },
  {
   "cell_type": "markdown",
   "metadata": {},
   "source": [
    "For each of the given strings, get list of words using [split()](https://docs.python.org/3/library/stdtypes.html) method and count number of words to get length of each string."
   ]
  },
  {
   "cell_type": "code",
   "execution_count": 59,
   "metadata": {},
   "outputs": [
    {
     "name": "stdout",
     "output_type": "stream",
     "text": [
      "The list of words in string named code are :  ['COMP8325']\n",
      "The number of words in code are  1\n",
      "The list of words in string named title are :  ['Applications', 'of', 'Artificial', 'Intelligence', 'for', 'Cyber', 'Security']\n",
      "The number of words in title are  7\n",
      "The list of words in string named description are :  ['This', 'unit', 'deals', 'with', 'the', 'applications', 'of', 'Artificial', 'Intelligence', 'in', 'the', 'field', 'of', 'Cyber', 'Security.', 'Topics', 'covered', 'include', 'machine', 'learning-based', 'intrusion', 'detection', 'systems,', 'malware', 'detection,', 'AI', 'as', 'a', 'service,', 'digital', 'forensics,', 'incident', 'response', 'leveraging', 'SIEM', 'data.', 'Special', 'attention', 'will', 'be', 'given', 'to', 'the', 'concept', 'of', 'adversarial', 'machine', 'learning.']\n",
      "The number of words in description are  48\n"
     ]
    }
   ],
   "source": [
    "# Write your code here to answer above questions\n",
    "\n",
    "code_list = code.split()\n",
    "title_list = title.split()\n",
    "desc_list = description.split()\n",
    "\n",
    "number_of_words = len(code_list)\n",
    "words_of_title = len(title_list)\n",
    "words_of_desc = len(desc_list)\n",
    "\n",
    "print(\"The list of words in string named code are : \" ,code.split())\n",
    "print(\"The number of words in code are \" ,number_of_words)\n",
    "\n",
    "print(\"The list of words in string named title are : \" ,title.split())\n",
    "print(\"The number of words in title are \" ,words_of_title)\n",
    "\n",
    "print(\"The list of words in string named description are : \" ,description.split())\n",
    "print(\"The number of words in description are \" ,words_of_desc)\n",
    "\n"
   ]
  },
  {
   "cell_type": "markdown",
   "metadata": {},
   "source": [
    "When counting length of a string, it is important that you convert string to lower case so that word `The` and `the` are considered as same word. It is because Python is a case sensitive language and treat variable differently depending on how we define it."
   ]
  },
  {
   "cell_type": "markdown",
   "metadata": {},
   "source": [
    "Convert the above string to lower case using lower() function and check whether you see any difference in terms of its length. To find out build-in function for converting string to lower case, check Python 3 documentation."
   ]
  },
  {
   "cell_type": "code",
   "execution_count": 60,
   "metadata": {},
   "outputs": [
    {
     "name": "stdout",
     "output_type": "stream",
     "text": [
      "['comp8325']\n",
      "['applications', 'of', 'artificial', 'intelligence', 'for', 'cyber', 'security']\n",
      "['this', 'unit', 'deals', 'with', 'the', 'applications', 'of', 'artificial', 'intelligence', 'in', 'the', 'field', 'of', 'cyber', 'security.', 'topics', 'covered', 'include', 'machine', 'learning-based', 'intrusion', 'detection', 'systems,', 'malware', 'detection,', 'ai', 'as', 'a', 'service,', 'digital', 'forensics,', 'incident', 'response', 'leveraging', 'siem', 'data.', 'special', 'attention', 'will', 'be', 'given', 'to', 'the', 'concept', 'of', 'adversarial', 'machine', 'learning.']\n",
      "The length of code in lower case is 1\n",
      "The length of title in lower case is 7\n",
      "The length of description in lower case is 48\n"
     ]
    }
   ],
   "source": [
    "# Write your code here to answer above question\n",
    "\n",
    "a = code.lower()\n",
    "h = a.split()\n",
    "print(h)\n",
    "\n",
    "\n",
    "b = title.lower()\n",
    "j = b.split()\n",
    "print(j)\n",
    "\n",
    "c = description.lower()\n",
    "k = c.split()\n",
    "print(k)\n",
    "\n",
    "\n",
    "d = len(h)\n",
    "e = len(j)\n",
    "f = len(k)\n",
    "\n",
    "print(\"The length of code in lower case is\" ,d)\n",
    "print(\"The length of title in lower case is\" ,e)\n",
    "print(\"The length of description in lower case is\" ,f)\n"
   ]
  },
  {
   "cell_type": "markdown",
   "metadata": {},
   "source": [
    "In real-world applications, we do not get very clean text data. You can imagine how Twitter data can be noisy. To give you an idea, we define a string containing various punctuation. Using Regular Expression (regex, in short), try to clean the given noisy string. You can find [this regex tutorial](https://regexone.com/) helpful for this exercise."
   ]
  },
  {
   "cell_type": "code",
   "execution_count": 61,
   "metadata": {},
   "outputs": [],
   "source": [
    "noisy_string = \"Th!is ?is a$ s@en!!te?!nce.\""
   ]
  },
  {
   "cell_type": "code",
   "execution_count": 66,
   "metadata": {},
   "outputs": [
    {
     "name": "stdout",
     "output_type": "stream",
     "text": [
      "This is a sentence\n"
     ]
    }
   ],
   "source": [
    "import re\n",
    "a_string = \"Th!is ?is a$ s@en!!te?!nce\"\n",
    "clean_string = re.sub(\"[^\\w\\s]\", \"\", a_string)\n",
    "print(clean_string)"
   ]
  },
  {
   "cell_type": "markdown",
   "metadata": {},
   "source": [
    "### Python Tuples"
   ]
  },
  {
   "cell_type": "markdown",
   "metadata": {},
   "source": [
    "Tuples are also Python built-in data types which are immutable. Once defined, no element can be added or deleted from a tuple. This functionality is useful in situations where you might want someone to process data but don't want to manipulate it. We define tuples by placing round brackets around the data elements. Tuple items are indexed with first item having index [0], second item having index [1], and so on."
   ]
  },
  {
   "cell_type": "code",
   "execution_count": 3,
   "metadata": {},
   "outputs": [],
   "source": [
    "automotive_brands = (\"Nissan\", \"Toyota\", \"Mitsubishi\", \"MBW\", \"Ford\", \"Audi\")"
   ]
  },
  {
   "cell_type": "markdown",
   "metadata": {},
   "source": [
    "Get first and fourth element in the tuple defined above"
   ]
  },
  {
   "cell_type": "code",
   "execution_count": 4,
   "metadata": {},
   "outputs": [
    {
     "name": "stdout",
     "output_type": "stream",
     "text": [
      "The first element in the tuple is Nissan\n",
      "The fourth element in the tuple is MBW\n"
     ]
    }
   ],
   "source": [
    "# Write your code here to answer above question\n",
    "item1 = automotive_brands[0]\n",
    "print(\"The first element in the tuple is\" ,item1)\n",
    "\n",
    "item4 = automotive_brands[3]\n",
    "print(\"The fourth element in the tuple is\" ,item4)\n"
   ]
  },
  {
   "cell_type": "markdown",
   "metadata": {},
   "source": [
    "## Python control structures"
   ]
  },
  {
   "cell_type": "markdown",
   "metadata": {},
   "source": [
    "In the cell below, I have copied excerpt from *Repetition*, a book written by Peter Handke, Nobel Laureate for Literature in 2019 [Source](https://www.nobelprize.org/prizes/literature/2019/handke/prose/). The goal here is to provide you understanding of various Python control structures. Follow along the questions to work on this."
   ]
  },
  {
   "cell_type": "code",
   "execution_count": 92,
   "metadata": {},
   "outputs": [],
   "source": [
    "text = \"\"\"Alone during the day, in my room or out of doors, I thought аbout the waiter more \n",
    "          than about my раrеnts; as I now realize, it was а kind of love. I had nо desire for \n",
    "          contact, I wanted only to bе near him, and I missed him on his day off. When he finally \n",
    "          reappeared, his black-and-white attire brought lifе into the rооm and I acquired а sense \n",
    "          of color. Не always kept his distance, even when off duty, and that may have accounted for \n",
    "          my affection. Оnе day I ran into him in his street clothes at the bus-station buffet, \n",
    "          now in the role of а guest, and there was no difference between the waiter at the hotel \n",
    "          and the young man in the gray suit with а raincoat over his аrm, resting оnе foot on the \n",
    "          railing and slowly munching а sausage while watching the departing buses. And perhaps \n",
    "          this aloofness in combination with his attentiveness аnd poise were the components of \n",
    "          the beauty that so moved me. Even today, in а predicament, I think about that waiter’s \n",
    "          poise; it doesn’t usually help much, but it brings back his image, and for the moment at \n",
    "          least I regain my composure.\n",
    "          \n",
    "          Тoward midnight, оn my last day in the Black Earth Hotel – all the guests and the cook, too, \n",
    "          had left – I passed the open kitchen on my way to my room аnd saw the waiter sitting bу а \n",
    "          tub full of dishes, using а tablecloth to dry them. Later, when I looked out of my window, \n",
    "          he was standing in his shirtsleeves on the bridge across the torrent, holding а pile of \n",
    "          dishes under his right аrm. With his left hand, he took one after another and with а smooth \n",
    "          graceful movement sent them sailing into the water like so many Frisbees.\"\"\""
   ]
  },
  {
   "cell_type": "markdown",
   "metadata": {},
   "source": [
    "You can use `for` loop to iterate over a sequence. Write a for loop to count how many times does `comma` (,) appear in the text."
   ]
  },
  {
   "cell_type": "code",
   "execution_count": 93,
   "metadata": {},
   "outputs": [
    {
     "name": "stdout",
     "output_type": "stream",
     "text": [
      "['Alone during the day, in my room or out of doors, I thought аbout the waiter more \\n          than about my раrеnts; as I now realize, it was а kind of love. I had nо desire for \\n          contact, I wanted only to bе near him, and I missed him on his day off. When he finally \\n          reappeared, his black-and-white attire brought lifе into the rооm and I acquired а sense \\n          of color. Не always kept his distance, even when off duty, and that may have accounted for \\n          my affection. Оnе day I ran into him in his street clothes at the bus-station buffet, \\n          now in the role of а guest, and there was no difference between the waiter at the hotel \\n          and the young man in the gray suit with а raincoat over his аrm, resting оnе foot on the \\n          railing and slowly munching а sausage while watching the departing buses. And perhaps \\n          this aloofness in combination with his attentiveness аnd poise were the components of \\n          the beauty that so moved me. Even today, in а predicament, I think about that waiter’s \\n          poise; it doesn’t usually help much, but it brings back his image, and for the moment at \\n          least I regain my composure.\\n          \\n          Тoward midnight, оn my last day in the Black Earth Hotel – all the guests and the cook, too, \\n          had left – I passed the open kitchen on my way to my room аnd saw the waiter sitting bу а \\n          tub full of dishes, using а tablecloth to dry them. Later, when I looked out of my window, \\n          he was standing in his shirtsleeves on the bridge across the torrent, holding а pile of \\n          dishes under his right аrm. With his left hand, he took one after another and with а smooth \\n          graceful movement sent them sailing into the water like so many Frisbees.']\n",
      "The number of commas in the above text are:  23\n"
     ]
    }
   ],
   "source": [
    "z=text.split('*,')\n",
    "print(z)\n",
    "count_o = 0\n",
    "for character in text:\n",
    "    if character == ',':\n",
    "        count_o += 1\n",
    "    else:\n",
    "        pass\n",
    "print(\"The number of commas in the above text are: \" ,count_o)\n"
   ]
  },
  {
   "cell_type": "markdown",
   "metadata": {},
   "source": [
    "Using for loop, count how many times word `the` is appearing in the text."
   ]
  },
  {
   "cell_type": "code",
   "execution_count": 94,
   "metadata": {},
   "outputs": [
    {
     "data": {
      "text/plain": [
       "22"
      ]
     },
     "execution_count": 94,
     "metadata": {},
     "output_type": "execute_result"
    }
   ],
   "source": [
    "import re\n",
    "a = re.split(r'\\W', text)\n",
    "a.count('the') "
   ]
  },
  {
   "cell_type": "markdown",
   "metadata": {},
   "source": [
    "Find unique number of words in the given text. Note: You need to convert text into lower case, clean the text by removing non-desired punctuations, and consider whether you want to consider words such as `bus-station` as a single word or two words by splitting it based on `-`."
   ]
  },
  {
   "cell_type": "code",
   "execution_count": 95,
   "metadata": {
    "scrolled": true
   },
   "outputs": [
    {
     "name": "stdout",
     "output_type": "stream",
     "text": [
      "Alone during the day in my room or out of doors I thought аbout the waiter more \n",
      "          than about my раrеnts as I now realize it was а kind of love I had nо desire for \n",
      "          contact I wanted only to bе near him and I missed him on his day off When he finally \n",
      "          reappeared his black-and-white attire brought lifе into the rооm and I acquired а sense \n",
      "          of color Не always kept his distance even when off duty and that may have accounted for \n",
      "          my affection Оnе day I ran into him in his street clothes at the bus-station buffet \n",
      "          now in the role of а guest and there was no difference between the waiter at the hotel \n",
      "          and the young man in the gray suit with а raincoat over his аrm resting оnе foot on the \n",
      "          railing and slowly munching а sausage while watching the departing buses And perhaps \n",
      "          this aloofness in combination with his attentiveness аnd poise were the components of \n",
      "          the beauty that so moved me Even today in а predicament I think about that waiters \n",
      "          poise it doesnt usually help much but it brings back his image and for the moment at \n",
      "          least I regain my composure\n",
      "          \n",
      "          Тoward midnight оn my last day in the Black Earth Hotel  all the guests and the cook too \n",
      "          had left  I passed the open kitchen on my way to my room аnd saw the waiter sitting bу а \n",
      "          tub full of dishes using а tablecloth to dry them Later when I looked out of my window \n",
      "          he was standing in his shirtsleeves on the bridge across the torrent holding а pile of \n",
      "          dishes under his right аrm With his left hand he took one after another and with а smooth \n",
      "          graceful movement sent them sailing into the water like so many Frisbees\n"
     ]
    },
    {
     "data": {
      "text/plain": [
       "43"
      ]
     },
     "execution_count": 95,
     "metadata": {},
     "output_type": "execute_result"
    }
   ],
   "source": [
    "# Write your code here to answer the above question\n",
    "import re\n",
    "r=text.lower()\n",
    "text_string = re.sub(\"[^\\w\\s\\-]\", \"\", text)\n",
    "print(text_string)\n",
    "uniqueWordCount = 0\n",
    "count = {}\n",
    "for word in text_string:\n",
    "   if word in count :\n",
    "      count[word] += 1\n",
    "   else:\n",
    "      count[word] = 1\n",
    "len(count)\n"
   ]
  },
  {
   "cell_type": "markdown",
   "metadata": {},
   "source": [
    "After finishing this workshop, commit your work to your Github repository. Show your finished and committed notebook on Github to your tutor."
   ]
  },
  {
   "cell_type": "code",
   "execution_count": null,
   "metadata": {},
   "outputs": [],
   "source": []
  }
 ],
 "metadata": {
  "kernelspec": {
   "display_name": "Python 3",
   "language": "python",
   "name": "python3"
  },
  "language_info": {
   "codemirror_mode": {
    "name": "ipython",
    "version": 3
   },
   "file_extension": ".py",
   "mimetype": "text/x-python",
   "name": "python",
   "nbconvert_exporter": "python",
   "pygments_lexer": "ipython3",
   "version": "3.8.8"
  }
 },
 "nbformat": 4,
 "nbformat_minor": 2
}
